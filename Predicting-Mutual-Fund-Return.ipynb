{
 "cells": [
  {
   "cell_type": "markdown",
   "metadata": {},
   "source": [
    "# Problem Statement"
   ]
  },
  {
   "cell_type": "markdown",
   "metadata": {},
   "source": [
    "The data given is of the mutual funds in the USA. The objective of this problem is to predict the ‘basis point spread’ over AAA bonds i.e. feature ‘bonds_aaa’ against each Serial Number.\n",
    "\n",
    "Basis Point Spread indicates the additional return a mutual fund would give over the AAA-rated bonds."
   ]
  },
  {
   "cell_type": "markdown",
   "metadata": {},
   "source": [
    "# About the dataset"
   ]
  },
  {
   "cell_type": "markdown",
   "metadata": {},
   "source": [
    "- Train.csv : The data file train.csv contains the 9518 instances with the 153 features including the target feature.\n",
    "- Test.csv : The datafile test.csv contains the 2380instances with the 152 features excluding the target feature.\n"
   ]
  },
  {
   "cell_type": "code",
   "execution_count": 1,
   "metadata": {},
   "outputs": [],
   "source": [
    "# import the modules\n",
    "# load dataset\n",
    "import pandas as pd \n",
    "import numpy as np\n",
    "import matplotlib.pyplot as plt\n"
   ]
  },
  {
   "cell_type": "code",
   "execution_count": 2,
   "metadata": {},
   "outputs": [
    {
     "name": "stdout",
     "output_type": "stream",
     "text": [
      "(9518, 154)\n"
     ]
    }
   ],
   "source": [
    "data_train = pd.read_csv('./train.csv')\n",
    "data_test = pd.read_csv('./test.csv')\n",
    "\n",
    "#print shape\n",
    "print(data_train.shape)\n",
    "\n",
    "# drop serial number\n",
    "data_train.drop(columns='Serial Number',inplace=True)\n"
   ]
  },
  {
   "cell_type": "code",
   "execution_count": 3,
   "metadata": {},
   "outputs": [
    {
     "data": {
      "text/html": [
       "<div>\n",
       "<style scoped>\n",
       "    .dataframe tbody tr th:only-of-type {\n",
       "        vertical-align: middle;\n",
       "    }\n",
       "\n",
       "    .dataframe tbody tr th {\n",
       "        vertical-align: top;\n",
       "    }\n",
       "\n",
       "    .dataframe thead th {\n",
       "        text-align: right;\n",
       "    }\n",
       "</style>\n",
       "<table border=\"1\" class=\"dataframe\">\n",
       "  <thead>\n",
       "    <tr style=\"text-align: right;\">\n",
       "      <th></th>\n",
       "      <th>Id</th>\n",
       "      <th>total_net_assets</th>\n",
       "      <th>net_annual_expenses_ratio</th>\n",
       "      <th>morningstar_rating</th>\n",
       "      <th>portfolio_cash</th>\n",
       "      <th>portfolio_stocks</th>\n",
       "      <th>portfolio_bonds</th>\n",
       "      <th>portfolio_others</th>\n",
       "      <th>portfolio_preferred</th>\n",
       "      <th>portfolio_convertable</th>\n",
       "      <th>...</th>\n",
       "      <th>category_102</th>\n",
       "      <th>category_103</th>\n",
       "      <th>category_104</th>\n",
       "      <th>category_105</th>\n",
       "      <th>category_106</th>\n",
       "      <th>category_107</th>\n",
       "      <th>investment_0</th>\n",
       "      <th>investment_1</th>\n",
       "      <th>investment_2</th>\n",
       "      <th>bonds_aaa</th>\n",
       "    </tr>\n",
       "  </thead>\n",
       "  <tbody>\n",
       "    <tr>\n",
       "      <th>0</th>\n",
       "      <td>3768</td>\n",
       "      <td>211000</td>\n",
       "      <td>1.90</td>\n",
       "      <td>3</td>\n",
       "      <td>0.95</td>\n",
       "      <td>99.05</td>\n",
       "      <td>0.00</td>\n",
       "      <td>0.00</td>\n",
       "      <td>0.00</td>\n",
       "      <td>0.00</td>\n",
       "      <td>...</td>\n",
       "      <td>0.0</td>\n",
       "      <td>0.0</td>\n",
       "      <td>0.0</td>\n",
       "      <td>0.0</td>\n",
       "      <td>0.0</td>\n",
       "      <td>0.0</td>\n",
       "      <td>0.0</td>\n",
       "      <td>1.0</td>\n",
       "      <td>0.0</td>\n",
       "      <td>0.00</td>\n",
       "    </tr>\n",
       "    <tr>\n",
       "      <th>1</th>\n",
       "      <td>6244</td>\n",
       "      <td>98930000</td>\n",
       "      <td>1.57</td>\n",
       "      <td>2</td>\n",
       "      <td>0.00</td>\n",
       "      <td>0.00</td>\n",
       "      <td>100.00</td>\n",
       "      <td>0.00</td>\n",
       "      <td>0.00</td>\n",
       "      <td>0.00</td>\n",
       "      <td>...</td>\n",
       "      <td>0.0</td>\n",
       "      <td>0.0</td>\n",
       "      <td>0.0</td>\n",
       "      <td>0.0</td>\n",
       "      <td>0.0</td>\n",
       "      <td>0.0</td>\n",
       "      <td>1.0</td>\n",
       "      <td>0.0</td>\n",
       "      <td>0.0</td>\n",
       "      <td>0.65</td>\n",
       "    </tr>\n",
       "    <tr>\n",
       "      <th>2</th>\n",
       "      <td>2230</td>\n",
       "      <td>440000000</td>\n",
       "      <td>0.53</td>\n",
       "      <td>4</td>\n",
       "      <td>1.71</td>\n",
       "      <td>0.00</td>\n",
       "      <td>98.29</td>\n",
       "      <td>0.00</td>\n",
       "      <td>0.00</td>\n",
       "      <td>0.00</td>\n",
       "      <td>...</td>\n",
       "      <td>0.0</td>\n",
       "      <td>0.0</td>\n",
       "      <td>0.0</td>\n",
       "      <td>0.0</td>\n",
       "      <td>0.0</td>\n",
       "      <td>0.0</td>\n",
       "      <td>1.0</td>\n",
       "      <td>0.0</td>\n",
       "      <td>0.0</td>\n",
       "      <td>93.20</td>\n",
       "    </tr>\n",
       "    <tr>\n",
       "      <th>3</th>\n",
       "      <td>7518</td>\n",
       "      <td>56050000</td>\n",
       "      <td>0.93</td>\n",
       "      <td>3</td>\n",
       "      <td>2.64</td>\n",
       "      <td>31.29</td>\n",
       "      <td>57.06</td>\n",
       "      <td>0.80</td>\n",
       "      <td>7.62</td>\n",
       "      <td>0.58</td>\n",
       "      <td>...</td>\n",
       "      <td>0.0</td>\n",
       "      <td>0.0</td>\n",
       "      <td>0.0</td>\n",
       "      <td>0.0</td>\n",
       "      <td>0.0</td>\n",
       "      <td>0.0</td>\n",
       "      <td>1.0</td>\n",
       "      <td>0.0</td>\n",
       "      <td>0.0</td>\n",
       "      <td>2.64</td>\n",
       "    </tr>\n",
       "    <tr>\n",
       "      <th>4</th>\n",
       "      <td>8037</td>\n",
       "      <td>173040000</td>\n",
       "      <td>2.26</td>\n",
       "      <td>2</td>\n",
       "      <td>5.24</td>\n",
       "      <td>94.75</td>\n",
       "      <td>0.00</td>\n",
       "      <td>0.01</td>\n",
       "      <td>0.00</td>\n",
       "      <td>0.00</td>\n",
       "      <td>...</td>\n",
       "      <td>0.0</td>\n",
       "      <td>0.0</td>\n",
       "      <td>0.0</td>\n",
       "      <td>0.0</td>\n",
       "      <td>0.0</td>\n",
       "      <td>0.0</td>\n",
       "      <td>1.0</td>\n",
       "      <td>0.0</td>\n",
       "      <td>0.0</td>\n",
       "      <td>0.00</td>\n",
       "    </tr>\n",
       "  </tbody>\n",
       "</table>\n",
       "<p>5 rows × 153 columns</p>\n",
       "</div>"
      ],
      "text/plain": [
       "     Id  total_net_assets  net_annual_expenses_ratio  morningstar_rating  \\\n",
       "0  3768            211000                       1.90                   3   \n",
       "1  6244          98930000                       1.57                   2   \n",
       "2  2230         440000000                       0.53                   4   \n",
       "3  7518          56050000                       0.93                   3   \n",
       "4  8037         173040000                       2.26                   2   \n",
       "\n",
       "   portfolio_cash  portfolio_stocks  portfolio_bonds  portfolio_others  \\\n",
       "0            0.95             99.05             0.00              0.00   \n",
       "1            0.00              0.00           100.00              0.00   \n",
       "2            1.71              0.00            98.29              0.00   \n",
       "3            2.64             31.29            57.06              0.80   \n",
       "4            5.24             94.75             0.00              0.01   \n",
       "\n",
       "   portfolio_preferred  portfolio_convertable  ...  category_102  \\\n",
       "0                 0.00                   0.00  ...           0.0   \n",
       "1                 0.00                   0.00  ...           0.0   \n",
       "2                 0.00                   0.00  ...           0.0   \n",
       "3                 7.62                   0.58  ...           0.0   \n",
       "4                 0.00                   0.00  ...           0.0   \n",
       "\n",
       "   category_103  category_104  category_105  category_106  category_107  \\\n",
       "0           0.0           0.0           0.0           0.0           0.0   \n",
       "1           0.0           0.0           0.0           0.0           0.0   \n",
       "2           0.0           0.0           0.0           0.0           0.0   \n",
       "3           0.0           0.0           0.0           0.0           0.0   \n",
       "4           0.0           0.0           0.0           0.0           0.0   \n",
       "\n",
       "   investment_0  investment_1  investment_2  bonds_aaa  \n",
       "0           0.0           1.0           0.0       0.00  \n",
       "1           1.0           0.0           0.0       0.65  \n",
       "2           1.0           0.0           0.0      93.20  \n",
       "3           1.0           0.0           0.0       2.64  \n",
       "4           1.0           0.0           0.0       0.00  \n",
       "\n",
       "[5 rows x 153 columns]"
      ]
     },
     "execution_count": 3,
     "metadata": {},
     "output_type": "execute_result"
    }
   ],
   "source": [
    "data_train.head(5)"
   ]
  },
  {
   "cell_type": "code",
   "execution_count": 4,
   "metadata": {},
   "outputs": [
    {
     "data": {
      "text/plain": [
       "Index(['Id', 'total_net_assets', 'net_annual_expenses_ratio',\n",
       "       'morningstar_rating', 'portfolio_cash', 'portfolio_stocks',\n",
       "       'portfolio_bonds', 'portfolio_others', 'portfolio_preferred',\n",
       "       'portfolio_convertable',\n",
       "       ...\n",
       "       'category_102', 'category_103', 'category_104', 'category_105',\n",
       "       'category_106', 'category_107', 'investment_0', 'investment_1',\n",
       "       'investment_2', 'bonds_aaa'],\n",
       "      dtype='object', length=153)"
      ]
     },
     "execution_count": 4,
     "metadata": {},
     "output_type": "execute_result"
    }
   ],
   "source": [
    "data_train.columns"
   ]
  },
  {
   "cell_type": "code",
   "execution_count": 5,
   "metadata": {},
   "outputs": [
    {
     "data": {
      "text/html": [
       "<div>\n",
       "<style scoped>\n",
       "    .dataframe tbody tr th:only-of-type {\n",
       "        vertical-align: middle;\n",
       "    }\n",
       "\n",
       "    .dataframe tbody tr th {\n",
       "        vertical-align: top;\n",
       "    }\n",
       "\n",
       "    .dataframe thead th {\n",
       "        text-align: right;\n",
       "    }\n",
       "</style>\n",
       "<table border=\"1\" class=\"dataframe\">\n",
       "  <thead>\n",
       "    <tr style=\"text-align: right;\">\n",
       "      <th></th>\n",
       "      <th>Id</th>\n",
       "      <th>total_net_assets</th>\n",
       "      <th>net_annual_expenses_ratio</th>\n",
       "      <th>morningstar_rating</th>\n",
       "      <th>portfolio_cash</th>\n",
       "      <th>portfolio_stocks</th>\n",
       "      <th>portfolio_bonds</th>\n",
       "      <th>portfolio_others</th>\n",
       "      <th>portfolio_preferred</th>\n",
       "      <th>portfolio_convertable</th>\n",
       "      <th>...</th>\n",
       "      <th>category_102</th>\n",
       "      <th>category_103</th>\n",
       "      <th>category_104</th>\n",
       "      <th>category_105</th>\n",
       "      <th>category_106</th>\n",
       "      <th>category_107</th>\n",
       "      <th>investment_0</th>\n",
       "      <th>investment_1</th>\n",
       "      <th>investment_2</th>\n",
       "      <th>bonds_aaa</th>\n",
       "    </tr>\n",
       "  </thead>\n",
       "  <tbody>\n",
       "    <tr>\n",
       "      <th>count</th>\n",
       "      <td>9518.000000</td>\n",
       "      <td>9.518000e+03</td>\n",
       "      <td>9518.000000</td>\n",
       "      <td>9518.000000</td>\n",
       "      <td>9518.000000</td>\n",
       "      <td>9518.000000</td>\n",
       "      <td>9518.000000</td>\n",
       "      <td>9518.000000</td>\n",
       "      <td>9518.000000</td>\n",
       "      <td>9518.000000</td>\n",
       "      <td>...</td>\n",
       "      <td>9518.000000</td>\n",
       "      <td>9518.000000</td>\n",
       "      <td>9518.000000</td>\n",
       "      <td>9518.000000</td>\n",
       "      <td>9518.000000</td>\n",
       "      <td>9518.000000</td>\n",
       "      <td>9518.000000</td>\n",
       "      <td>9518.000000</td>\n",
       "      <td>9518.000000</td>\n",
       "      <td>9518.000000</td>\n",
       "    </tr>\n",
       "    <tr>\n",
       "      <th>mean</th>\n",
       "      <td>5972.644988</td>\n",
       "      <td>2.473000e+09</td>\n",
       "      <td>1.018988</td>\n",
       "      <td>2.752994</td>\n",
       "      <td>6.853698</td>\n",
       "      <td>59.393899</td>\n",
       "      <td>30.249100</td>\n",
       "      <td>1.577069</td>\n",
       "      <td>0.371074</td>\n",
       "      <td>0.646013</td>\n",
       "      <td>...</td>\n",
       "      <td>0.001891</td>\n",
       "      <td>0.000315</td>\n",
       "      <td>0.020172</td>\n",
       "      <td>0.011452</td>\n",
       "      <td>0.034251</td>\n",
       "      <td>0.005358</td>\n",
       "      <td>0.466905</td>\n",
       "      <td>0.262135</td>\n",
       "      <td>0.270960</td>\n",
       "      <td>12.419950</td>\n",
       "    </tr>\n",
       "    <tr>\n",
       "      <th>std</th>\n",
       "      <td>3435.630920</td>\n",
       "      <td>1.050165e+10</td>\n",
       "      <td>0.607111</td>\n",
       "      <td>1.363690</td>\n",
       "      <td>11.577991</td>\n",
       "      <td>42.067778</td>\n",
       "      <td>38.712283</td>\n",
       "      <td>6.416054</td>\n",
       "      <td>2.539131</td>\n",
       "      <td>5.360963</td>\n",
       "      <td>...</td>\n",
       "      <td>0.043449</td>\n",
       "      <td>0.017752</td>\n",
       "      <td>0.140597</td>\n",
       "      <td>0.106405</td>\n",
       "      <td>0.181883</td>\n",
       "      <td>0.073008</td>\n",
       "      <td>0.498930</td>\n",
       "      <td>0.439819</td>\n",
       "      <td>0.444479</td>\n",
       "      <td>23.569492</td>\n",
       "    </tr>\n",
       "    <tr>\n",
       "      <th>min</th>\n",
       "      <td>0.000000</td>\n",
       "      <td>5.000000e+03</td>\n",
       "      <td>0.000000</td>\n",
       "      <td>0.000000</td>\n",
       "      <td>0.000000</td>\n",
       "      <td>0.000000</td>\n",
       "      <td>0.000000</td>\n",
       "      <td>0.000000</td>\n",
       "      <td>0.000000</td>\n",
       "      <td>0.000000</td>\n",
       "      <td>...</td>\n",
       "      <td>0.000000</td>\n",
       "      <td>0.000000</td>\n",
       "      <td>0.000000</td>\n",
       "      <td>0.000000</td>\n",
       "      <td>0.000000</td>\n",
       "      <td>0.000000</td>\n",
       "      <td>0.000000</td>\n",
       "      <td>0.000000</td>\n",
       "      <td>0.000000</td>\n",
       "      <td>-7.600000</td>\n",
       "    </tr>\n",
       "    <tr>\n",
       "      <th>25%</th>\n",
       "      <td>3003.500000</td>\n",
       "      <td>6.994750e+07</td>\n",
       "      <td>0.610000</td>\n",
       "      <td>2.000000</td>\n",
       "      <td>1.122500</td>\n",
       "      <td>0.590000</td>\n",
       "      <td>0.000000</td>\n",
       "      <td>0.000000</td>\n",
       "      <td>0.000000</td>\n",
       "      <td>0.000000</td>\n",
       "      <td>...</td>\n",
       "      <td>0.000000</td>\n",
       "      <td>0.000000</td>\n",
       "      <td>0.000000</td>\n",
       "      <td>0.000000</td>\n",
       "      <td>0.000000</td>\n",
       "      <td>0.000000</td>\n",
       "      <td>0.000000</td>\n",
       "      <td>0.000000</td>\n",
       "      <td>0.000000</td>\n",
       "      <td>0.000000</td>\n",
       "    </tr>\n",
       "    <tr>\n",
       "      <th>50%</th>\n",
       "      <td>5979.000000</td>\n",
       "      <td>3.255700e+08</td>\n",
       "      <td>0.960000</td>\n",
       "      <td>3.000000</td>\n",
       "      <td>2.950000</td>\n",
       "      <td>83.180000</td>\n",
       "      <td>1.390000</td>\n",
       "      <td>0.000000</td>\n",
       "      <td>0.000000</td>\n",
       "      <td>0.000000</td>\n",
       "      <td>...</td>\n",
       "      <td>0.000000</td>\n",
       "      <td>0.000000</td>\n",
       "      <td>0.000000</td>\n",
       "      <td>0.000000</td>\n",
       "      <td>0.000000</td>\n",
       "      <td>0.000000</td>\n",
       "      <td>0.000000</td>\n",
       "      <td>0.000000</td>\n",
       "      <td>0.000000</td>\n",
       "      <td>0.000000</td>\n",
       "    </tr>\n",
       "    <tr>\n",
       "      <th>75%</th>\n",
       "      <td>8950.750000</td>\n",
       "      <td>1.410000e+09</td>\n",
       "      <td>1.370000</td>\n",
       "      <td>4.000000</td>\n",
       "      <td>6.690000</td>\n",
       "      <td>97.460000</td>\n",
       "      <td>65.702500</td>\n",
       "      <td>0.870000</td>\n",
       "      <td>0.010000</td>\n",
       "      <td>0.010000</td>\n",
       "      <td>...</td>\n",
       "      <td>0.000000</td>\n",
       "      <td>0.000000</td>\n",
       "      <td>0.000000</td>\n",
       "      <td>0.000000</td>\n",
       "      <td>0.000000</td>\n",
       "      <td>0.000000</td>\n",
       "      <td>1.000000</td>\n",
       "      <td>1.000000</td>\n",
       "      <td>1.000000</td>\n",
       "      <td>13.310000</td>\n",
       "    </tr>\n",
       "    <tr>\n",
       "      <th>max</th>\n",
       "      <td>11896.000000</td>\n",
       "      <td>1.880000e+11</td>\n",
       "      <td>7.070000</td>\n",
       "      <td>5.000000</td>\n",
       "      <td>100.000000</td>\n",
       "      <td>100.000000</td>\n",
       "      <td>100.000000</td>\n",
       "      <td>94.710000</td>\n",
       "      <td>71.420000</td>\n",
       "      <td>93.820000</td>\n",
       "      <td>...</td>\n",
       "      <td>1.000000</td>\n",
       "      <td>1.000000</td>\n",
       "      <td>1.000000</td>\n",
       "      <td>1.000000</td>\n",
       "      <td>1.000000</td>\n",
       "      <td>1.000000</td>\n",
       "      <td>1.000000</td>\n",
       "      <td>1.000000</td>\n",
       "      <td>1.000000</td>\n",
       "      <td>102.790000</td>\n",
       "    </tr>\n",
       "  </tbody>\n",
       "</table>\n",
       "<p>8 rows × 153 columns</p>\n",
       "</div>"
      ],
      "text/plain": [
       "                 Id  total_net_assets  net_annual_expenses_ratio  \\\n",
       "count   9518.000000      9.518000e+03                9518.000000   \n",
       "mean    5972.644988      2.473000e+09                   1.018988   \n",
       "std     3435.630920      1.050165e+10                   0.607111   \n",
       "min        0.000000      5.000000e+03                   0.000000   \n",
       "25%     3003.500000      6.994750e+07                   0.610000   \n",
       "50%     5979.000000      3.255700e+08                   0.960000   \n",
       "75%     8950.750000      1.410000e+09                   1.370000   \n",
       "max    11896.000000      1.880000e+11                   7.070000   \n",
       "\n",
       "       morningstar_rating  portfolio_cash  portfolio_stocks  portfolio_bonds  \\\n",
       "count         9518.000000     9518.000000       9518.000000      9518.000000   \n",
       "mean             2.752994        6.853698         59.393899        30.249100   \n",
       "std              1.363690       11.577991         42.067778        38.712283   \n",
       "min              0.000000        0.000000          0.000000         0.000000   \n",
       "25%              2.000000        1.122500          0.590000         0.000000   \n",
       "50%              3.000000        2.950000         83.180000         1.390000   \n",
       "75%              4.000000        6.690000         97.460000        65.702500   \n",
       "max              5.000000      100.000000        100.000000       100.000000   \n",
       "\n",
       "       portfolio_others  portfolio_preferred  portfolio_convertable  ...  \\\n",
       "count       9518.000000          9518.000000            9518.000000  ...   \n",
       "mean           1.577069             0.371074               0.646013  ...   \n",
       "std            6.416054             2.539131               5.360963  ...   \n",
       "min            0.000000             0.000000               0.000000  ...   \n",
       "25%            0.000000             0.000000               0.000000  ...   \n",
       "50%            0.000000             0.000000               0.000000  ...   \n",
       "75%            0.870000             0.010000               0.010000  ...   \n",
       "max           94.710000            71.420000              93.820000  ...   \n",
       "\n",
       "       category_102  category_103  category_104  category_105  category_106  \\\n",
       "count   9518.000000   9518.000000   9518.000000   9518.000000   9518.000000   \n",
       "mean       0.001891      0.000315      0.020172      0.011452      0.034251   \n",
       "std        0.043449      0.017752      0.140597      0.106405      0.181883   \n",
       "min        0.000000      0.000000      0.000000      0.000000      0.000000   \n",
       "25%        0.000000      0.000000      0.000000      0.000000      0.000000   \n",
       "50%        0.000000      0.000000      0.000000      0.000000      0.000000   \n",
       "75%        0.000000      0.000000      0.000000      0.000000      0.000000   \n",
       "max        1.000000      1.000000      1.000000      1.000000      1.000000   \n",
       "\n",
       "       category_107  investment_0  investment_1  investment_2    bonds_aaa  \n",
       "count   9518.000000   9518.000000   9518.000000   9518.000000  9518.000000  \n",
       "mean       0.005358      0.466905      0.262135      0.270960    12.419950  \n",
       "std        0.073008      0.498930      0.439819      0.444479    23.569492  \n",
       "min        0.000000      0.000000      0.000000      0.000000    -7.600000  \n",
       "25%        0.000000      0.000000      0.000000      0.000000     0.000000  \n",
       "50%        0.000000      0.000000      0.000000      0.000000     0.000000  \n",
       "75%        0.000000      1.000000      1.000000      1.000000    13.310000  \n",
       "max        1.000000      1.000000      1.000000      1.000000   102.790000  \n",
       "\n",
       "[8 rows x 153 columns]"
      ]
     },
     "execution_count": 5,
     "metadata": {},
     "output_type": "execute_result"
    }
   ],
   "source": [
    "# print dataset info\n",
    "data_train.describe()"
   ]
  },
  {
   "cell_type": "code",
   "execution_count": 6,
   "metadata": {},
   "outputs": [
    {
     "name": "stdout",
     "output_type": "stream",
     "text": [
      "<class 'pandas.core.frame.DataFrame'>\n",
      "RangeIndex: 9518 entries, 0 to 9517\n",
      "Columns: 153 entries, Id to bonds_aaa\n",
      "dtypes: float64(148), int64(5)\n",
      "memory usage: 11.1 MB\n"
     ]
    }
   ],
   "source": [
    "data_train.info()"
   ]
  },
  {
   "cell_type": "code",
   "execution_count": 7,
   "metadata": {},
   "outputs": [
    {
     "data": {
      "text/plain": [
       "Id                             int64\n",
       "total_net_assets               int64\n",
       "net_annual_expenses_ratio    float64\n",
       "morningstar_rating             int64\n",
       "portfolio_cash               float64\n",
       "                              ...   \n",
       "category_107                 float64\n",
       "investment_0                 float64\n",
       "investment_1                 float64\n",
       "investment_2                 float64\n",
       "bonds_aaa                    float64\n",
       "Length: 153, dtype: object"
      ]
     },
     "execution_count": 7,
     "metadata": {},
     "output_type": "execute_result"
    }
   ],
   "source": [
    "data_train.dtypes"
   ]
  },
  {
   "cell_type": "code",
   "execution_count": 8,
   "metadata": {},
   "outputs": [
    {
     "data": {
      "text/plain": [
       "Id                           0\n",
       "total_net_assets             0\n",
       "net_annual_expenses_ratio    0\n",
       "morningstar_rating           0\n",
       "portfolio_cash               0\n",
       "                            ..\n",
       "category_107                 0\n",
       "investment_0                 0\n",
       "investment_1                 0\n",
       "investment_2                 0\n",
       "bonds_aaa                    0\n",
       "Length: 153, dtype: int64"
      ]
     },
     "execution_count": 8,
     "metadata": {},
     "output_type": "execute_result"
    }
   ],
   "source": [
    "data_train.isnull().sum()"
   ]
  },
  {
   "cell_type": "markdown",
   "metadata": {},
   "source": [
    "### As ther are no missing values and also all cat_values are converted in numerical form"
   ]
  },
  {
   "cell_type": "markdown",
   "metadata": {},
   "source": [
    "**Check for the categorical & continuous features.**"
   ]
  },
  {
   "cell_type": "code",
   "execution_count": 9,
   "metadata": {},
   "outputs": [],
   "source": [
    "# Seperate continuous variables and categorical variables\n",
    "dataframe_con = data_train.select_dtypes(include=np.number)\n",
    "dataframe_cat = data_train.select_dtypes(exclude=np.number)"
   ]
  },
  {
   "cell_type": "code",
   "execution_count": 10,
   "metadata": {},
   "outputs": [
    {
     "data": {
      "text/plain": [
       "0"
      ]
     },
     "execution_count": 10,
     "metadata": {},
     "output_type": "execute_result"
    }
   ],
   "source": [
    "dataframe_cat.columns.values.sum()"
   ]
  },
  {
   "cell_type": "code",
   "execution_count": 11,
   "metadata": {},
   "outputs": [
    {
     "data": {
      "text/plain": [
       "Index(['Id', 'total_net_assets', 'net_annual_expenses_ratio',\n",
       "       'morningstar_rating', 'portfolio_cash', 'portfolio_stocks',\n",
       "       'portfolio_bonds', 'portfolio_others', 'portfolio_preferred',\n",
       "       'portfolio_convertable',\n",
       "       ...\n",
       "       'category_102', 'category_103', 'category_104', 'category_105',\n",
       "       'category_106', 'category_107', 'investment_0', 'investment_1',\n",
       "       'investment_2', 'bonds_aaa'],\n",
       "      dtype='object', length=153)"
      ]
     },
     "execution_count": 11,
     "metadata": {},
     "output_type": "execute_result"
    }
   ],
   "source": [
    "dataframe_con.columns"
   ]
  },
  {
   "cell_type": "code",
   "execution_count": 12,
   "metadata": {},
   "outputs": [],
   "source": [
    "#dataframe_con.columns.values.sum()"
   ]
  },
  {
   "cell_type": "markdown",
   "metadata": {},
   "source": [
    "**Check for the correlation between the features and do some Hypothesis Testing to see if there is strong association between features.**"
   ]
  },
  {
   "cell_type": "markdown",
   "metadata": {},
   "source": [
    "# Chi-square contingency test"
   ]
  },
  {
   "cell_type": "code",
   "execution_count": 13,
   "metadata": {},
   "outputs": [],
   "source": [
    "from scipy.stats import chi2_contingency\n",
    "import scipy.stats as stats\n",
    "\n",
    "#Critical value \n",
    "critical_value = stats.chi2.ppf(q = 0.95, # Find the critical value for 95% confidence*\n",
    "                      df = 11)   # Df = number of variable categories(in purpose) - 1"
   ]
  },
  {
   "cell_type": "code",
   "execution_count": 14,
   "metadata": {},
   "outputs": [
    {
     "name": "stdout",
     "output_type": "stream",
     "text": [
      "Critical Value:  19.67513757268249\n"
     ]
    }
   ],
   "source": [
    "print(\"Critical Value: \", critical_value)"
   ]
  },
  {
   "cell_type": "code",
   "execution_count": 15,
   "metadata": {},
   "outputs": [
    {
     "name": "stdout",
     "output_type": "stream",
     "text": [
      "p value:\n",
      "0.00032309085443671745\n",
      "Chi Statistic:\n",
      "23.099539737235563\n"
     ]
    }
   ],
   "source": [
    "# Subsetting the dataframe\n",
    "return_rating = data_train.morningstar_return_rating.value_counts()\n",
    "risk_rating = data_train.morningstar_risk_rating.value_counts()\n",
    "\n",
    "#Concating yes and no into a single dataframe\n",
    "observed=pd.concat([return_rating.transpose(),risk_rating.transpose()], axis = 1,keys=['return','risk'])\n",
    "\n",
    "chi2, p, dof, ex = chi2_contingency(observed)\n",
    "\n",
    "\n",
    "print(\"p value:\")\n",
    "print(p)\n",
    "\n",
    "\n",
    "print(\"Chi Statistic:\")\n",
    "print(chi2)"
   ]
  },
  {
   "cell_type": "code",
   "execution_count": 16,
   "metadata": {},
   "outputs": [
    {
     "name": "stdout",
     "output_type": "stream",
     "text": [
      "Reject the Null Hypothesis\n"
     ]
    }
   ],
   "source": [
    "if chi2 > critical_value:\n",
    "    print(\"Reject the Null Hypothesis\")\n",
    "else:\n",
    "    print(\"Fail to reject the Null Hypothesis\")"
   ]
  },
  {
   "cell_type": "markdown",
   "metadata": {},
   "source": [
    "**Clean the data, remove correlated features and apply some data preprocessing techniques**"
   ]
  },
  {
   "cell_type": "code",
   "execution_count": 17,
   "metadata": {},
   "outputs": [
    {
     "name": "stdout",
     "output_type": "stream",
     "text": [
      "morningstar_rating         morningstar_return_rating    0.964080\n",
      "morningstar_return_rating  morningstar_rating           0.964080\n",
      "portfolio_bonds            portfolio_stocks             0.917010\n",
      "portfolio_stocks           portfolio_bonds              0.917010\n",
      "category_12                portfolio_convertable        0.899705\n",
      "portfolio_convertable      category_12                  0.899705\n",
      "mean_annual_return_3y      sharpe_ratio_3y              0.766910\n",
      "sharpe_ratio_3y            mean_annual_return_3y        0.766910\n",
      "dtype: float64\n"
     ]
    }
   ],
   "source": [
    "# check the correlation\n",
    "data_train.corr()\n",
    "correlation = data_train.corr().abs()\n",
    "\n",
    "# unstack and sort the values\n",
    "us_correlation = correlation.unstack()\n",
    "us_correlation = us_correlation.sort_values(ascending=False)\n",
    "\n",
    "# max correlated features between 0.75 to 1\n",
    "max_correlated = us_correlation[(us_correlation>0.75) & (us_correlation<1)]\n",
    "print(max_correlated)\n",
    "\n",
    "# drop highly correlated features\n",
    "data_train.drop(columns=['morningstar_rating','portfolio_stocks','category_12','sharpe_ratio_3y'],inplace=True)"
   ]
  },
  {
   "cell_type": "code",
   "execution_count": 18,
   "metadata": {},
   "outputs": [
    {
     "data": {
      "text/plain": [
       "(9518, 149)"
      ]
     },
     "execution_count": 18,
     "metadata": {},
     "output_type": "execute_result"
    }
   ],
   "source": [
    "data_train.shape"
   ]
  },
  {
   "cell_type": "markdown",
   "metadata": {},
   "source": [
    "**Check out the best plots for plotting between categorical target and continuous features and try making some inferences from these plots.** "
   ]
  },
  {
   "cell_type": "markdown",
   "metadata": {},
   "source": [
    "# OUTLIER CHECK"
   ]
  },
  {
   "cell_type": "code",
   "execution_count": 19,
   "metadata": {},
   "outputs": [
    {
     "data": {
      "image/png": "[encoded data removed]",
      "text/plain": [
       "<Figure size 432x288 with 2 Axes>"
      ]
     },
     "metadata": {
      "needs_background": "light"
     },
     "output_type": "display_data"
    }
   ],
   "source": [
    "# Code starts here\n",
    "fig, (ax_1, ax_2) = plt.subplots(nrows=2)\n",
    "data_train[[\"price_earning\"]].boxplot(ax=ax_1)\n",
    "ax_1.set_title(\"Price Earning\")\n",
    "data_train[[\"net_annual_expenses_ratio\"]].boxplot(ax=ax_2)\n",
    "ax_2.set_title(\"Net Annual Expenses Ratio\")\n",
    "fig.tight_layout()\n",
    "plt.show()"
   ]
  },
  {
   "cell_type": "markdown",
   "metadata": {},
   "source": [
    "# Model Building"
   ]
  },
  {
   "cell_type": "code",
   "execution_count": 20,
   "metadata": {},
   "outputs": [],
   "source": [
    "# import libraries\n",
    "from sklearn.model_selection import train_test_split\n",
    "from sklearn.linear_model import LinearRegression\n",
    "from sklearn.metrics import r2_score,mean_squared_error\n",
    "from math import sqrt"
   ]
  },
  {
   "cell_type": "code",
   "execution_count": 21,
   "metadata": {},
   "outputs": [
    {
     "name": "stdout",
     "output_type": "stream",
     "text": [
      "16.063572900124257\n"
     ]
    }
   ],
   "source": [
    "# independent variable \n",
    "X = data_train.drop(columns = 'bonds_aaa')\n",
    "\n",
    "# target variable \n",
    "y = data_train.bonds_aaa\n",
    "\n",
    "# train test split\n",
    "X_train,X_test,y_train,y_test = train_test_split(X,y,test_size=0.3, random_state=3)\n",
    "\n",
    "# Instantiate linear model\n",
    "lr = LinearRegression()\n",
    "\n",
    "# fit the model on training data\n",
    "lr.fit(X_train,y_train)\n",
    "\n",
    "# predict on test\n",
    "y_pred = lr.predict(X_test)\n",
    "\n",
    "#Calculate rmse\n",
    "rmse = np.sqrt(mean_squared_error(y_pred,y_test))\n",
    "print(rmse)"
   ]
  },
  {
   "cell_type": "markdown",
   "metadata": {},
   "source": [
    "# Predictor check using GridsearchCV"
   ]
  },
  {
   "cell_type": "code",
   "execution_count": 22,
   "metadata": {},
   "outputs": [],
   "source": [
    "# import libraries\n",
    "from sklearn.model_selection import GridSearchCV, RandomizedSearchCV\n",
    "from sklearn.linear_model import Ridge,Lasso"
   ]
  },
  {
   "cell_type": "code",
   "execution_count": 23,
   "metadata": {},
   "outputs": [],
   "source": [
    "# regularization parameters for grid search\n",
    "ridge_lambdas = [0.01, 0.03, 0.06, 0.1, 0.3, 0.6, 1, 3, 6, 10, 30, 60]\n",
    "lasso_lambdas = [0.0001, 0.0003, 0.0006, 0.001, 0.003, 0.006, 0.01, 0.03, 0.06, 0.1, 0.3, 0.6, 1]\n",
    "\n",
    "# Instantiate ridge models\n",
    "ridge_model = Ridge()"
   ]
  },
  {
   "cell_type": "code",
   "execution_count": 24,
   "metadata": {},
   "outputs": [
    {
     "name": "stderr",
     "output_type": "stream",
     "text": [
      "C:\\Users\\nidhi\\anaconda3\\lib\\site-packages\\sklearn\\linear_model\\_ridge.py:148: LinAlgWarning: Ill-conditioned matrix (rcond=1.60386e-26): result may not be accurate.\n",
      "  overwrite_a=True).T\n",
      "C:\\Users\\nidhi\\anaconda3\\lib\\site-packages\\sklearn\\linear_model\\_ridge.py:148: LinAlgWarning: Ill-conditioned matrix (rcond=1.69427e-26): result may not be accurate.\n",
      "  overwrite_a=True).T\n",
      "C:\\Users\\nidhi\\anaconda3\\lib\\site-packages\\sklearn\\linear_model\\_ridge.py:148: LinAlgWarning: Ill-conditioned matrix (rcond=1.97784e-26): result may not be accurate.\n",
      "  overwrite_a=True).T\n",
      "C:\\Users\\nidhi\\anaconda3\\lib\\site-packages\\sklearn\\linear_model\\_ridge.py:148: LinAlgWarning: Ill-conditioned matrix (rcond=1.5958e-26): result may not be accurate.\n",
      "  overwrite_a=True).T\n",
      "C:\\Users\\nidhi\\anaconda3\\lib\\site-packages\\sklearn\\linear_model\\_ridge.py:148: LinAlgWarning: Ill-conditioned matrix (rcond=1.81706e-26): result may not be accurate.\n",
      "  overwrite_a=True).T\n",
      "C:\\Users\\nidhi\\anaconda3\\lib\\site-packages\\sklearn\\linear_model\\_ridge.py:148: LinAlgWarning: Ill-conditioned matrix (rcond=4.80917e-26): result may not be accurate.\n",
      "  overwrite_a=True).T\n",
      "C:\\Users\\nidhi\\anaconda3\\lib\\site-packages\\sklearn\\linear_model\\_ridge.py:148: LinAlgWarning: Ill-conditioned matrix (rcond=5.08009e-26): result may not be accurate.\n",
      "  overwrite_a=True).T\n",
      "C:\\Users\\nidhi\\anaconda3\\lib\\site-packages\\sklearn\\linear_model\\_ridge.py:148: LinAlgWarning: Ill-conditioned matrix (rcond=5.93068e-26): result may not be accurate.\n",
      "  overwrite_a=True).T\n",
      "C:\\Users\\nidhi\\anaconda3\\lib\\site-packages\\sklearn\\linear_model\\_ridge.py:148: LinAlgWarning: Ill-conditioned matrix (rcond=4.78506e-26): result may not be accurate.\n",
      "  overwrite_a=True).T\n",
      "C:\\Users\\nidhi\\anaconda3\\lib\\site-packages\\sklearn\\linear_model\\_ridge.py:148: LinAlgWarning: Ill-conditioned matrix (rcond=5.44761e-26): result may not be accurate.\n",
      "  overwrite_a=True).T\n",
      "C:\\Users\\nidhi\\anaconda3\\lib\\site-packages\\sklearn\\linear_model\\_ridge.py:148: LinAlgWarning: Ill-conditioned matrix (rcond=9.61147e-26): result may not be accurate.\n",
      "  overwrite_a=True).T\n",
      "C:\\Users\\nidhi\\anaconda3\\lib\\site-packages\\sklearn\\linear_model\\_ridge.py:148: LinAlgWarning: Ill-conditioned matrix (rcond=1.01529e-25): result may not be accurate.\n",
      "  overwrite_a=True).T\n",
      "C:\\Users\\nidhi\\anaconda3\\lib\\site-packages\\sklearn\\linear_model\\_ridge.py:148: LinAlgWarning: Ill-conditioned matrix (rcond=1.18532e-25): result may not be accurate.\n",
      "  overwrite_a=True).T\n",
      "C:\\Users\\nidhi\\anaconda3\\lib\\site-packages\\sklearn\\linear_model\\_ridge.py:148: LinAlgWarning: Ill-conditioned matrix (rcond=9.56347e-26): result may not be accurate.\n",
      "  overwrite_a=True).T\n",
      "C:\\Users\\nidhi\\anaconda3\\lib\\site-packages\\sklearn\\linear_model\\_ridge.py:148: LinAlgWarning: Ill-conditioned matrix (rcond=1.0885e-25): result may not be accurate.\n",
      "  overwrite_a=True).T\n",
      "C:\\Users\\nidhi\\anaconda3\\lib\\site-packages\\sklearn\\linear_model\\_ridge.py:148: LinAlgWarning: Ill-conditioned matrix (rcond=1.60041e-25): result may not be accurate.\n",
      "  overwrite_a=True).T\n",
      "C:\\Users\\nidhi\\anaconda3\\lib\\site-packages\\sklearn\\linear_model\\_ridge.py:148: LinAlgWarning: Ill-conditioned matrix (rcond=1.69055e-25): result may not be accurate.\n",
      "  overwrite_a=True).T\n",
      "C:\\Users\\nidhi\\anaconda3\\lib\\site-packages\\sklearn\\linear_model\\_ridge.py:148: LinAlgWarning: Ill-conditioned matrix (rcond=1.97373e-25): result may not be accurate.\n",
      "  overwrite_a=True).T\n",
      "C:\\Users\\nidhi\\anaconda3\\lib\\site-packages\\sklearn\\linear_model\\_ridge.py:148: LinAlgWarning: Ill-conditioned matrix (rcond=1.59248e-25): result may not be accurate.\n",
      "  overwrite_a=True).T\n",
      "C:\\Users\\nidhi\\anaconda3\\lib\\site-packages\\sklearn\\linear_model\\_ridge.py:148: LinAlgWarning: Ill-conditioned matrix (rcond=1.81198e-25): result may not be accurate.\n",
      "  overwrite_a=True).T\n",
      "C:\\Users\\nidhi\\anaconda3\\lib\\site-packages\\sklearn\\linear_model\\_ridge.py:148: LinAlgWarning: Ill-conditioned matrix (rcond=4.77947e-25): result may not be accurate.\n",
      "  overwrite_a=True).T\n",
      "C:\\Users\\nidhi\\anaconda3\\lib\\site-packages\\sklearn\\linear_model\\_ridge.py:148: LinAlgWarning: Ill-conditioned matrix (rcond=5.04833e-25): result may not be accurate.\n",
      "  overwrite_a=True).T\n",
      "C:\\Users\\nidhi\\anaconda3\\lib\\site-packages\\sklearn\\linear_model\\_ridge.py:148: LinAlgWarning: Ill-conditioned matrix (rcond=5.8952e-25): result may not be accurate.\n",
      "  overwrite_a=True).T\n",
      "C:\\Users\\nidhi\\anaconda3\\lib\\site-packages\\sklearn\\linear_model\\_ridge.py:148: LinAlgWarning: Ill-conditioned matrix (rcond=4.75669e-25): result may not be accurate.\n",
      "  overwrite_a=True).T\n",
      "C:\\Users\\nidhi\\anaconda3\\lib\\site-packages\\sklearn\\linear_model\\_ridge.py:148: LinAlgWarning: Ill-conditioned matrix (rcond=5.40459e-25): result may not be accurate.\n",
      "  overwrite_a=True).T\n",
      "C:\\Users\\nidhi\\anaconda3\\lib\\site-packages\\sklearn\\linear_model\\_ridge.py:148: LinAlgWarning: Ill-conditioned matrix (rcond=9.49852e-25): result may not be accurate.\n",
      "  overwrite_a=True).T\n",
      "C:\\Users\\nidhi\\anaconda3\\lib\\site-packages\\sklearn\\linear_model\\_ridge.py:148: LinAlgWarning: Ill-conditioned matrix (rcond=1.0032e-24): result may not be accurate.\n",
      "  overwrite_a=True).T\n",
      "C:\\Users\\nidhi\\anaconda3\\lib\\site-packages\\sklearn\\linear_model\\_ridge.py:148: LinAlgWarning: Ill-conditioned matrix (rcond=1.17186e-24): result may not be accurate.\n",
      "  overwrite_a=True).T\n",
      "C:\\Users\\nidhi\\anaconda3\\lib\\site-packages\\sklearn\\linear_model\\_ridge.py:148: LinAlgWarning: Ill-conditioned matrix (rcond=9.45501e-25): result may not be accurate.\n",
      "  overwrite_a=True).T\n",
      "C:\\Users\\nidhi\\anaconda3\\lib\\site-packages\\sklearn\\linear_model\\_ridge.py:148: LinAlgWarning: Ill-conditioned matrix (rcond=1.07231e-24): result may not be accurate.\n",
      "  overwrite_a=True).T\n",
      "C:\\Users\\nidhi\\anaconda3\\lib\\site-packages\\sklearn\\linear_model\\_ridge.py:148: LinAlgWarning: Ill-conditioned matrix (rcond=1.57081e-24): result may not be accurate.\n",
      "  overwrite_a=True).T\n",
      "C:\\Users\\nidhi\\anaconda3\\lib\\site-packages\\sklearn\\linear_model\\_ridge.py:148: LinAlgWarning: Ill-conditioned matrix (rcond=1.68439e-24): result may not be accurate.\n",
      "  overwrite_a=True).T\n",
      "C:\\Users\\nidhi\\anaconda3\\lib\\site-packages\\sklearn\\linear_model\\_ridge.py:148: LinAlgWarning: Ill-conditioned matrix (rcond=1.86091e-24): result may not be accurate.\n",
      "  overwrite_a=True).T\n",
      "C:\\Users\\nidhi\\anaconda3\\lib\\site-packages\\sklearn\\linear_model\\_ridge.py:148: LinAlgWarning: Ill-conditioned matrix (rcond=1.5446e-24): result may not be accurate.\n",
      "  overwrite_a=True).T\n",
      "C:\\Users\\nidhi\\anaconda3\\lib\\site-packages\\sklearn\\linear_model\\_ridge.py:148: LinAlgWarning: Ill-conditioned matrix (rcond=1.72721e-24): result may not be accurate.\n",
      "  overwrite_a=True).T\n",
      "C:\\Users\\nidhi\\anaconda3\\lib\\site-packages\\sklearn\\linear_model\\_ridge.py:148: LinAlgWarning: Ill-conditioned matrix (rcond=3.73404e-24): result may not be accurate.\n",
      "  overwrite_a=True).T\n",
      "C:\\Users\\nidhi\\anaconda3\\lib\\site-packages\\sklearn\\linear_model\\_ridge.py:148: LinAlgWarning: Ill-conditioned matrix (rcond=4.0382e-24): result may not be accurate.\n",
      "  overwrite_a=True).T\n",
      "C:\\Users\\nidhi\\anaconda3\\lib\\site-packages\\sklearn\\linear_model\\_ridge.py:148: LinAlgWarning: Ill-conditioned matrix (rcond=4.60588e-24): result may not be accurate.\n",
      "  overwrite_a=True).T\n",
      "C:\\Users\\nidhi\\anaconda3\\lib\\site-packages\\sklearn\\linear_model\\_ridge.py:148: LinAlgWarning: Ill-conditioned matrix (rcond=3.73801e-24): result may not be accurate.\n",
      "  overwrite_a=True).T\n",
      "C:\\Users\\nidhi\\anaconda3\\lib\\site-packages\\sklearn\\linear_model\\_ridge.py:148: LinAlgWarning: Ill-conditioned matrix (rcond=4.09594e-24): result may not be accurate.\n",
      "  overwrite_a=True).T\n",
      "C:\\Users\\nidhi\\anaconda3\\lib\\site-packages\\sklearn\\linear_model\\_ridge.py:148: LinAlgWarning: Ill-conditioned matrix (rcond=6.63559e-24): result may not be accurate.\n",
      "  overwrite_a=True).T\n",
      "C:\\Users\\nidhi\\anaconda3\\lib\\site-packages\\sklearn\\linear_model\\_ridge.py:148: LinAlgWarning: Ill-conditioned matrix (rcond=7.30631e-24): result may not be accurate.\n",
      "  overwrite_a=True).T\n",
      "C:\\Users\\nidhi\\anaconda3\\lib\\site-packages\\sklearn\\linear_model\\_ridge.py:148: LinAlgWarning: Ill-conditioned matrix (rcond=8.34974e-24): result may not be accurate.\n",
      "  overwrite_a=True).T\n",
      "C:\\Users\\nidhi\\anaconda3\\lib\\site-packages\\sklearn\\linear_model\\_ridge.py:148: LinAlgWarning: Ill-conditioned matrix (rcond=6.92238e-24): result may not be accurate.\n",
      "  overwrite_a=True).T\n",
      "C:\\Users\\nidhi\\anaconda3\\lib\\site-packages\\sklearn\\linear_model\\_ridge.py:148: LinAlgWarning: Ill-conditioned matrix (rcond=7.33523e-24): result may not be accurate.\n",
      "  overwrite_a=True).T\n",
      "C:\\Users\\nidhi\\anaconda3\\lib\\site-packages\\sklearn\\linear_model\\_ridge.py:148: LinAlgWarning: Ill-conditioned matrix (rcond=1.07014e-23): result may not be accurate.\n",
      "  overwrite_a=True).T\n",
      "C:\\Users\\nidhi\\anaconda3\\lib\\site-packages\\sklearn\\linear_model\\_ridge.py:148: LinAlgWarning: Ill-conditioned matrix (rcond=1.18371e-23): result may not be accurate.\n",
      "  overwrite_a=True).T\n"
     ]
    },
    {
     "name": "stderr",
     "output_type": "stream",
     "text": [
      "C:\\Users\\nidhi\\anaconda3\\lib\\site-packages\\sklearn\\linear_model\\_ridge.py:148: LinAlgWarning: Ill-conditioned matrix (rcond=1.35832e-23): result may not be accurate.\n",
      "  overwrite_a=True).T\n",
      "C:\\Users\\nidhi\\anaconda3\\lib\\site-packages\\sklearn\\linear_model\\_ridge.py:148: LinAlgWarning: Ill-conditioned matrix (rcond=1.14568e-23): result may not be accurate.\n",
      "  overwrite_a=True).T\n",
      "C:\\Users\\nidhi\\anaconda3\\lib\\site-packages\\sklearn\\linear_model\\_ridge.py:148: LinAlgWarning: Ill-conditioned matrix (rcond=1.18854e-23): result may not be accurate.\n",
      "  overwrite_a=True).T\n",
      "C:\\Users\\nidhi\\anaconda3\\lib\\site-packages\\sklearn\\linear_model\\_ridge.py:148: LinAlgWarning: Ill-conditioned matrix (rcond=3.41556e-23): result may not be accurate.\n",
      "  overwrite_a=True).T\n",
      "C:\\Users\\nidhi\\anaconda3\\lib\\site-packages\\sklearn\\linear_model\\_ridge.py:148: LinAlgWarning: Ill-conditioned matrix (rcond=3.79883e-23): result may not be accurate.\n",
      "  overwrite_a=True).T\n",
      "C:\\Users\\nidhi\\anaconda3\\lib\\site-packages\\sklearn\\linear_model\\_ridge.py:148: LinAlgWarning: Ill-conditioned matrix (rcond=4.37824e-23): result may not be accurate.\n",
      "  overwrite_a=True).T\n",
      "C:\\Users\\nidhi\\anaconda3\\lib\\site-packages\\sklearn\\linear_model\\_ridge.py:148: LinAlgWarning: Ill-conditioned matrix (rcond=3.7216e-23): result may not be accurate.\n",
      "  overwrite_a=True).T\n",
      "C:\\Users\\nidhi\\anaconda3\\lib\\site-packages\\sklearn\\linear_model\\_ridge.py:148: LinAlgWarning: Ill-conditioned matrix (rcond=3.85677e-23): result may not be accurate.\n",
      "  overwrite_a=True).T\n",
      "C:\\Users\\nidhi\\anaconda3\\lib\\site-packages\\sklearn\\linear_model\\_ridge.py:148: LinAlgWarning: Ill-conditioned matrix (rcond=7.45817e-23): result may not be accurate.\n",
      "  overwrite_a=True).T\n",
      "C:\\Users\\nidhi\\anaconda3\\lib\\site-packages\\sklearn\\linear_model\\_ridge.py:148: LinAlgWarning: Ill-conditioned matrix (rcond=8.43348e-23): result may not be accurate.\n",
      "  overwrite_a=True).T\n",
      "C:\\Users\\nidhi\\anaconda3\\lib\\site-packages\\sklearn\\linear_model\\_ridge.py:148: LinAlgWarning: Ill-conditioned matrix (rcond=1.00068e-22): result may not be accurate.\n",
      "  overwrite_a=True).T\n",
      "C:\\Users\\nidhi\\anaconda3\\lib\\site-packages\\sklearn\\linear_model\\_ridge.py:148: LinAlgWarning: Ill-conditioned matrix (rcond=8.07764e-23): result may not be accurate.\n",
      "  overwrite_a=True).T\n"
     ]
    },
    {
     "name": "stdout",
     "output_type": "stream",
     "text": [
      "16.065306137431957\n"
     ]
    },
    {
     "name": "stderr",
     "output_type": "stream",
     "text": [
      "C:\\Users\\nidhi\\anaconda3\\lib\\site-packages\\sklearn\\linear_model\\_ridge.py:148: LinAlgWarning: Ill-conditioned matrix (rcond=8.47646e-23): result may not be accurate.\n",
      "  overwrite_a=True).T\n",
      "C:\\Users\\nidhi\\anaconda3\\lib\\site-packages\\sklearn\\linear_model\\_ridge.py:148: LinAlgWarning: Ill-conditioned matrix (rcond=1.35833e-24): result may not be accurate.\n",
      "  overwrite_a=True).T\n"
     ]
    }
   ],
   "source": [
    "# apply ridge model\n",
    "ridge_grid = GridSearchCV(estimator=ridge_model, param_grid=dict(alpha=ridge_lambdas))\n",
    "ridge_grid.fit(X_train, y_train)\n",
    "\n",
    "# make predictions \n",
    "ridge_pred = ridge_grid.predict(X_test)\n",
    "ridge_rmse = np.sqrt(mean_squared_error(ridge_pred, y_test))\n",
    "print(ridge_rmse)"
   ]
  },
  {
   "cell_type": "code",
   "execution_count": 25,
   "metadata": {},
   "outputs": [
    {
     "name": "stderr",
     "output_type": "stream",
     "text": [
      "C:\\Users\\nidhi\\anaconda3\\lib\\site-packages\\sklearn\\linear_model\\_coordinate_descent.py:532: ConvergenceWarning: Objective did not converge. You might want to increase the number of iterations. Duality gap: 658667.3378857366, tolerance: 307.51487767438925\n",
      "  positive)\n",
      "C:\\Users\\nidhi\\anaconda3\\lib\\site-packages\\sklearn\\linear_model\\_coordinate_descent.py:532: ConvergenceWarning: Objective did not converge. You might want to increase the number of iterations. Duality gap: 626183.5363240297, tolerance: 290.8092764488984\n",
      "  positive)\n",
      "C:\\Users\\nidhi\\anaconda3\\lib\\site-packages\\sklearn\\linear_model\\_coordinate_descent.py:532: ConvergenceWarning: Objective did not converge. You might want to increase the number of iterations. Duality gap: 639523.4149298562, tolerance: 305.0520879554314\n",
      "  positive)\n",
      "C:\\Users\\nidhi\\anaconda3\\lib\\site-packages\\sklearn\\linear_model\\_coordinate_descent.py:532: ConvergenceWarning: Objective did not converge. You might want to increase the number of iterations. Duality gap: 619847.652019424, tolerance: 293.41203408351953\n",
      "  positive)\n",
      "C:\\Users\\nidhi\\anaconda3\\lib\\site-packages\\sklearn\\linear_model\\_coordinate_descent.py:532: ConvergenceWarning: Objective did not converge. You might want to increase the number of iterations. Duality gap: 628952.8207361033, tolerance: 305.25062502088\n",
      "  positive)\n",
      "C:\\Users\\nidhi\\anaconda3\\lib\\site-packages\\sklearn\\linear_model\\_coordinate_descent.py:532: ConvergenceWarning: Objective did not converge. You might want to increase the number of iterations. Duality gap: 660547.3011647543, tolerance: 307.51487767438925\n",
      "  positive)\n",
      "C:\\Users\\nidhi\\anaconda3\\lib\\site-packages\\sklearn\\linear_model\\_coordinate_descent.py:532: ConvergenceWarning: Objective did not converge. You might want to increase the number of iterations. Duality gap: 628204.2721153225, tolerance: 290.8092764488984\n",
      "  positive)\n",
      "C:\\Users\\nidhi\\anaconda3\\lib\\site-packages\\sklearn\\linear_model\\_coordinate_descent.py:532: ConvergenceWarning: Objective did not converge. You might want to increase the number of iterations. Duality gap: 641262.704653056, tolerance: 305.0520879554314\n",
      "  positive)\n",
      "C:\\Users\\nidhi\\anaconda3\\lib\\site-packages\\sklearn\\linear_model\\_coordinate_descent.py:532: ConvergenceWarning: Objective did not converge. You might want to increase the number of iterations. Duality gap: 621525.3631207362, tolerance: 293.41203408351953\n",
      "  positive)\n",
      "C:\\Users\\nidhi\\anaconda3\\lib\\site-packages\\sklearn\\linear_model\\_coordinate_descent.py:532: ConvergenceWarning: Objective did not converge. You might want to increase the number of iterations. Duality gap: 630748.8844368891, tolerance: 305.25062502088\n",
      "  positive)\n",
      "C:\\Users\\nidhi\\anaconda3\\lib\\site-packages\\sklearn\\linear_model\\_coordinate_descent.py:532: ConvergenceWarning: Objective did not converge. You might want to increase the number of iterations. Duality gap: 662788.2727162645, tolerance: 307.51487767438925\n",
      "  positive)\n",
      "C:\\Users\\nidhi\\anaconda3\\lib\\site-packages\\sklearn\\linear_model\\_coordinate_descent.py:532: ConvergenceWarning: Objective did not converge. You might want to increase the number of iterations. Duality gap: 630481.7929009954, tolerance: 290.8092764488984\n",
      "  positive)\n",
      "C:\\Users\\nidhi\\anaconda3\\lib\\site-packages\\sklearn\\linear_model\\_coordinate_descent.py:532: ConvergenceWarning: Objective did not converge. You might want to increase the number of iterations. Duality gap: 643351.3688672936, tolerance: 305.0520879554314\n",
      "  positive)\n",
      "C:\\Users\\nidhi\\anaconda3\\lib\\site-packages\\sklearn\\linear_model\\_coordinate_descent.py:532: ConvergenceWarning: Objective did not converge. You might want to increase the number of iterations. Duality gap: 622654.8247602497, tolerance: 293.41203408351953\n",
      "  positive)\n",
      "C:\\Users\\nidhi\\anaconda3\\lib\\site-packages\\sklearn\\linear_model\\_coordinate_descent.py:532: ConvergenceWarning: Objective did not converge. You might want to increase the number of iterations. Duality gap: 632896.4811192302, tolerance: 305.25062502088\n",
      "  positive)\n",
      "C:\\Users\\nidhi\\anaconda3\\lib\\site-packages\\sklearn\\linear_model\\_coordinate_descent.py:532: ConvergenceWarning: Objective did not converge. You might want to increase the number of iterations. Duality gap: 665299.7672243402, tolerance: 307.51487767438925\n",
      "  positive)\n",
      "C:\\Users\\nidhi\\anaconda3\\lib\\site-packages\\sklearn\\linear_model\\_coordinate_descent.py:532: ConvergenceWarning: Objective did not converge. You might want to increase the number of iterations. Duality gap: 645763.0845675115, tolerance: 305.0520879554314\n",
      "  positive)\n",
      "C:\\Users\\nidhi\\anaconda3\\lib\\site-packages\\sklearn\\linear_model\\_coordinate_descent.py:532: ConvergenceWarning: Objective did not converge. You might want to increase the number of iterations. Duality gap: 504580.7937399002, tolerance: 293.41203408351953\n",
      "  positive)\n"
     ]
    },
    {
     "name": "stdout",
     "output_type": "stream",
     "text": [
      "16.08126906729195\n"
     ]
    }
   ],
   "source": [
    "# Instantiate lasso models\n",
    "lasso_model = Lasso()\n",
    "\n",
    "# apply lasso model\n",
    "lasso_grid = GridSearchCV(estimator=lasso_model, param_grid=dict(alpha=lasso_lambdas))\n",
    "lasso_grid.fit(X_train, y_train)\n",
    "\n",
    "# make predictions\n",
    "lasso_pred = lasso_grid.predict(X_test)\n",
    "lasso_rmse = np.sqrt(mean_squared_error(lasso_pred, y_test))\n",
    "print(lasso_rmse)"
   ]
  },
  {
   "cell_type": "code",
   "execution_count": 26,
   "metadata": {},
   "outputs": [
    {
     "name": "stdout",
     "output_type": "stream",
     "text": [
      "morningstar_rating         morningstar_return_rating    0.961548\n",
      "morningstar_return_rating  morningstar_rating           0.961548\n",
      "portfolio_stocks           portfolio_bonds              0.920596\n",
      "portfolio_bonds            portfolio_stocks             0.920596\n",
      "portfolio_convertable      category_12                  0.858533\n",
      "category_12                portfolio_convertable        0.858533\n",
      "sharpe_ratio_3y            mean_annual_return_3y        0.779664\n",
      "mean_annual_return_3y      sharpe_ratio_3y              0.779664\n",
      "dtype: float64\n"
     ]
    }
   ],
   "source": [
    "# check the correlation\n",
    "data_test.corr()\n",
    "correlation = data_test.corr().abs()\n",
    "\n",
    "# unstack and sort the values\n",
    "us_correlation = correlation.unstack()\n",
    "us_correlation = us_correlation.sort_values(ascending=False)\n",
    "\n",
    "# max correlated features between 0.75 to 1\n",
    "max_correlated = us_correlation[(us_correlation>0.75) & (us_correlation<1)]\n",
    "print(max_correlated)\n",
    "\n",
    "# drop highly correlated features\n",
    "data_test.drop(columns=['morningstar_rating','portfolio_stocks','category_12','sharpe_ratio_3y'],inplace=True)"
   ]
  },
  {
   "cell_type": "code",
   "execution_count": 27,
   "metadata": {},
   "outputs": [
    {
     "data": {
      "text/plain": [
       "(2380, 149)"
      ]
     },
     "execution_count": 27,
     "metadata": {},
     "output_type": "execute_result"
    }
   ],
   "source": [
    "data_test.shape"
   ]
  },
  {
   "cell_type": "code",
   "execution_count": 28,
   "metadata": {},
   "outputs": [
    {
     "data": {
      "text/html": [
       "<div>\n",
       "<style scoped>\n",
       "    .dataframe tbody tr th:only-of-type {\n",
       "        vertical-align: middle;\n",
       "    }\n",
       "\n",
       "    .dataframe tbody tr th {\n",
       "        vertical-align: top;\n",
       "    }\n",
       "\n",
       "    .dataframe thead th {\n",
       "        text-align: right;\n",
       "    }\n",
       "</style>\n",
       "<table border=\"1\" class=\"dataframe\">\n",
       "  <thead>\n",
       "    <tr style=\"text-align: right;\">\n",
       "      <th></th>\n",
       "      <th>Id</th>\n",
       "      <th>Serial Number</th>\n",
       "      <th>total_net_assets</th>\n",
       "      <th>net_annual_expenses_ratio</th>\n",
       "      <th>portfolio_cash</th>\n",
       "      <th>portfolio_bonds</th>\n",
       "      <th>portfolio_others</th>\n",
       "      <th>portfolio_preferred</th>\n",
       "      <th>portfolio_convertable</th>\n",
       "      <th>sectors_basic_materials</th>\n",
       "      <th>...</th>\n",
       "      <th>category_101</th>\n",
       "      <th>category_102</th>\n",
       "      <th>category_103</th>\n",
       "      <th>category_104</th>\n",
       "      <th>category_105</th>\n",
       "      <th>category_106</th>\n",
       "      <th>category_107</th>\n",
       "      <th>investment_0</th>\n",
       "      <th>investment_1</th>\n",
       "      <th>investment_2</th>\n",
       "    </tr>\n",
       "  </thead>\n",
       "  <tbody>\n",
       "    <tr>\n",
       "      <th>0</th>\n",
       "      <td>11266</td>\n",
       "      <td>7720</td>\n",
       "      <td>3610000000</td>\n",
       "      <td>0.25</td>\n",
       "      <td>0.04</td>\n",
       "      <td>98.98</td>\n",
       "      <td>0.98</td>\n",
       "      <td>0.00</td>\n",
       "      <td>0.00</td>\n",
       "      <td>0.00</td>\n",
       "      <td>...</td>\n",
       "      <td>0.0</td>\n",
       "      <td>0.0</td>\n",
       "      <td>0.0</td>\n",
       "      <td>0.0</td>\n",
       "      <td>0.0</td>\n",
       "      <td>0.0</td>\n",
       "      <td>0.0</td>\n",
       "      <td>1.0</td>\n",
       "      <td>0.0</td>\n",
       "      <td>0.0</td>\n",
       "    </tr>\n",
       "    <tr>\n",
       "      <th>1</th>\n",
       "      <td>10140</td>\n",
       "      <td>7649</td>\n",
       "      <td>1010000000</td>\n",
       "      <td>0.44</td>\n",
       "      <td>24.92</td>\n",
       "      <td>44.06</td>\n",
       "      <td>0.09</td>\n",
       "      <td>0.29</td>\n",
       "      <td>0.08</td>\n",
       "      <td>4.65</td>\n",
       "      <td>...</td>\n",
       "      <td>0.0</td>\n",
       "      <td>0.0</td>\n",
       "      <td>0.0</td>\n",
       "      <td>0.0</td>\n",
       "      <td>0.0</td>\n",
       "      <td>0.0</td>\n",
       "      <td>0.0</td>\n",
       "      <td>1.0</td>\n",
       "      <td>0.0</td>\n",
       "      <td>0.0</td>\n",
       "    </tr>\n",
       "    <tr>\n",
       "      <th>2</th>\n",
       "      <td>90</td>\n",
       "      <td>9946</td>\n",
       "      <td>323140000</td>\n",
       "      <td>1.12</td>\n",
       "      <td>34.70</td>\n",
       "      <td>0.00</td>\n",
       "      <td>2.49</td>\n",
       "      <td>0.00</td>\n",
       "      <td>0.00</td>\n",
       "      <td>4.37</td>\n",
       "      <td>...</td>\n",
       "      <td>0.0</td>\n",
       "      <td>0.0</td>\n",
       "      <td>0.0</td>\n",
       "      <td>0.0</td>\n",
       "      <td>0.0</td>\n",
       "      <td>0.0</td>\n",
       "      <td>0.0</td>\n",
       "      <td>1.0</td>\n",
       "      <td>0.0</td>\n",
       "      <td>0.0</td>\n",
       "    </tr>\n",
       "    <tr>\n",
       "      <th>3</th>\n",
       "      <td>6882</td>\n",
       "      <td>459</td>\n",
       "      <td>5350000</td>\n",
       "      <td>1.70</td>\n",
       "      <td>9.61</td>\n",
       "      <td>90.40</td>\n",
       "      <td>0.00</td>\n",
       "      <td>0.00</td>\n",
       "      <td>0.00</td>\n",
       "      <td>0.00</td>\n",
       "      <td>...</td>\n",
       "      <td>0.0</td>\n",
       "      <td>0.0</td>\n",
       "      <td>0.0</td>\n",
       "      <td>0.0</td>\n",
       "      <td>0.0</td>\n",
       "      <td>0.0</td>\n",
       "      <td>0.0</td>\n",
       "      <td>0.0</td>\n",
       "      <td>0.0</td>\n",
       "      <td>1.0</td>\n",
       "    </tr>\n",
       "    <tr>\n",
       "      <th>4</th>\n",
       "      <td>6413</td>\n",
       "      <td>6373</td>\n",
       "      <td>4690000</td>\n",
       "      <td>0.21</td>\n",
       "      <td>0.29</td>\n",
       "      <td>0.00</td>\n",
       "      <td>0.00</td>\n",
       "      <td>0.00</td>\n",
       "      <td>0.00</td>\n",
       "      <td>2.90</td>\n",
       "      <td>...</td>\n",
       "      <td>0.0</td>\n",
       "      <td>0.0</td>\n",
       "      <td>0.0</td>\n",
       "      <td>0.0</td>\n",
       "      <td>0.0</td>\n",
       "      <td>0.0</td>\n",
       "      <td>0.0</td>\n",
       "      <td>1.0</td>\n",
       "      <td>0.0</td>\n",
       "      <td>0.0</td>\n",
       "    </tr>\n",
       "  </tbody>\n",
       "</table>\n",
       "<p>5 rows × 149 columns</p>\n",
       "</div>"
      ],
      "text/plain": [
       "      Id  Serial Number  total_net_assets  net_annual_expenses_ratio  \\\n",
       "0  11266           7720        3610000000                       0.25   \n",
       "1  10140           7649        1010000000                       0.44   \n",
       "2     90           9946         323140000                       1.12   \n",
       "3   6882            459           5350000                       1.70   \n",
       "4   6413           6373           4690000                       0.21   \n",
       "\n",
       "   portfolio_cash  portfolio_bonds  portfolio_others  portfolio_preferred  \\\n",
       "0            0.04            98.98              0.98                 0.00   \n",
       "1           24.92            44.06              0.09                 0.29   \n",
       "2           34.70             0.00              2.49                 0.00   \n",
       "3            9.61            90.40              0.00                 0.00   \n",
       "4            0.29             0.00              0.00                 0.00   \n",
       "\n",
       "   portfolio_convertable  sectors_basic_materials  ...  category_101  \\\n",
       "0                   0.00                     0.00  ...           0.0   \n",
       "1                   0.08                     4.65  ...           0.0   \n",
       "2                   0.00                     4.37  ...           0.0   \n",
       "3                   0.00                     0.00  ...           0.0   \n",
       "4                   0.00                     2.90  ...           0.0   \n",
       "\n",
       "   category_102  category_103  category_104  category_105  category_106  \\\n",
       "0           0.0           0.0           0.0           0.0           0.0   \n",
       "1           0.0           0.0           0.0           0.0           0.0   \n",
       "2           0.0           0.0           0.0           0.0           0.0   \n",
       "3           0.0           0.0           0.0           0.0           0.0   \n",
       "4           0.0           0.0           0.0           0.0           0.0   \n",
       "\n",
       "   category_107  investment_0  investment_1  investment_2  \n",
       "0           0.0           1.0           0.0           0.0  \n",
       "1           0.0           1.0           0.0           0.0  \n",
       "2           0.0           1.0           0.0           0.0  \n",
       "3           0.0           0.0           0.0           1.0  \n",
       "4           0.0           1.0           0.0           0.0  \n",
       "\n",
       "[5 rows x 149 columns]"
      ]
     },
     "execution_count": 28,
     "metadata": {},
     "output_type": "execute_result"
    }
   ],
   "source": [
    "data_test.head(5)"
   ]
  },
  {
   "cell_type": "code",
   "execution_count": 29,
   "metadata": {},
   "outputs": [],
   "source": [
    "data_test.drop(columns='Serial Number',inplace=True)"
   ]
  },
  {
   "cell_type": "code",
   "execution_count": 30,
   "metadata": {},
   "outputs": [
    {
     "data": {
      "text/plain": [
       "2380"
      ]
     },
     "execution_count": 30,
     "metadata": {},
     "output_type": "execute_result"
    }
   ],
   "source": [
    "predictions = lr.predict(data_test)\n",
    "len(list(predictions))"
   ]
  },
  {
   "cell_type": "code",
   "execution_count": 31,
   "metadata": {},
   "outputs": [
    {
     "data": {
      "text/plain": [
       "2380"
      ]
     },
     "execution_count": 31,
     "metadata": {},
     "output_type": "execute_result"
    }
   ],
   "source": [
    "predictions2 = ridge_grid.predict(data_test)\n",
    "len(list(predictions2))"
   ]
  },
  {
   "cell_type": "code",
   "execution_count": 32,
   "metadata": {},
   "outputs": [
    {
     "data": {
      "text/plain": [
       "2380"
      ]
     },
     "execution_count": 32,
     "metadata": {},
     "output_type": "execute_result"
    }
   ],
   "source": [
    "predictions3 = lasso_grid.predict(data_test)\n",
    "len(list(predictions3))"
   ]
  },
  {
   "cell_type": "code",
   "execution_count": 33,
   "metadata": {},
   "outputs": [],
   "source": [
    "# pd.DataFrame(predictions).to_csv(\"../final_submission_file..csv\")"
   ]
  },
  {
   "cell_type": "code",
   "execution_count": 35,
   "metadata": {},
   "outputs": [],
   "source": [
    "dt_ID = data_test['Id']"
   ]
  },
  {
   "cell_type": "code",
   "execution_count": 36,
   "metadata": {},
   "outputs": [],
   "source": [
    "submission_file = pd.DataFrame(predictions,index = dt_ID,columns = ['bonds_aaa'])"
   ]
  },
  {
   "cell_type": "code",
   "execution_count": 37,
   "metadata": {},
   "outputs": [
    {
     "data": {
      "text/html": [
       "<div>\n",
       "<style scoped>\n",
       "    .dataframe tbody tr th:only-of-type {\n",
       "        vertical-align: middle;\n",
       "    }\n",
       "\n",
       "    .dataframe tbody tr th {\n",
       "        vertical-align: top;\n",
       "    }\n",
       "\n",
       "    .dataframe thead th {\n",
       "        text-align: right;\n",
       "    }\n",
       "</style>\n",
       "<table border=\"1\" class=\"dataframe\">\n",
       "  <thead>\n",
       "    <tr style=\"text-align: right;\">\n",
       "      <th></th>\n",
       "      <th>bonds_aaa</th>\n",
       "    </tr>\n",
       "    <tr>\n",
       "      <th>Id</th>\n",
       "      <th></th>\n",
       "    </tr>\n",
       "  </thead>\n",
       "  <tbody>\n",
       "    <tr>\n",
       "      <th>11266</th>\n",
       "      <td>7.283280</td>\n",
       "    </tr>\n",
       "    <tr>\n",
       "      <th>10140</th>\n",
       "      <td>54.297549</td>\n",
       "    </tr>\n",
       "    <tr>\n",
       "      <th>90</th>\n",
       "      <td>0.980541</td>\n",
       "    </tr>\n",
       "    <tr>\n",
       "      <th>6882</th>\n",
       "      <td>5.171425</td>\n",
       "    </tr>\n",
       "    <tr>\n",
       "      <th>6413</th>\n",
       "      <td>-2.511998</td>\n",
       "    </tr>\n",
       "  </tbody>\n",
       "</table>\n",
       "</div>"
      ],
      "text/plain": [
       "       bonds_aaa\n",
       "Id              \n",
       "11266   7.283280\n",
       "10140  54.297549\n",
       "90      0.980541\n",
       "6882    5.171425\n",
       "6413   -2.511998"
      ]
     },
     "execution_count": 37,
     "metadata": {},
     "output_type": "execute_result"
    }
   ],
   "source": [
    "submission_file.head()"
   ]
  },
  {
   "cell_type": "code",
   "execution_count": 38,
   "metadata": {},
   "outputs": [],
   "source": [
    "submission_file.to_csv('submission_file_mutual_fund.csv', index=True)"
   ]
  },
  {
   "cell_type": "code",
   "execution_count": 39,
   "metadata": {},
   "outputs": [
    {
     "data": {
      "text/plain": [
       "(2380, 1)"
      ]
     },
     "execution_count": 39,
     "metadata": {},
     "output_type": "execute_result"
    }
   ],
   "source": [
    "submission_file.shape"
   ]
  },
  {
   "cell_type": "code",
   "execution_count": 40,
   "metadata": {},
   "outputs": [],
   "source": [
    "submission_file_Ridge = pd.DataFrame(predictions2,index = dt_ID,columns = ['bonds_aaa'])"
   ]
  },
  {
   "cell_type": "code",
   "execution_count": 41,
   "metadata": {},
   "outputs": [],
   "source": [
    "submission_file_Ridge.to_csv('submission_file_mutual_fund_Ridge.csv', index=True)"
   ]
  },
  {
   "cell_type": "code",
   "execution_count": 42,
   "metadata": {},
   "outputs": [],
   "source": [
    "submission_file_Lasso = pd.DataFrame(predictions3,index = dt_ID,columns = ['bonds_aaa'])"
   ]
  },
  {
   "cell_type": "code",
   "execution_count": 43,
   "metadata": {},
   "outputs": [],
   "source": [
    "submission_file_Lasso.to_csv('submission_file_mutual_fund_Lasso.csv', index=True)"
   ]
  },
  {
   "cell_type": "code",
   "execution_count": null,
   "metadata": {},
   "outputs": [],
   "source": []
  }
 ],
 "metadata": {
  "kernelspec": {
   "display_name": "Python 3",
   "language": "python",
   "name": "python3"
  },
  "language_info": {
   "codemirror_mode": {
    "name": "ipython",
    "version": 3
   },
   "file_extension": ".py",
   "mimetype": "text/x-python",
   "name": "python",
   "nbconvert_exporter": "python",
   "pygments_lexer": "ipython3",
   "version": "3.7.6"
  }
 },
 "nbformat": 4,
 "nbformat_minor": 4
}
